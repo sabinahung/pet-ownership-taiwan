{
 "cells": [
  {
   "cell_type": "markdown",
   "metadata": {},
   "source": [
    "#### Raw data source: https://www.pet.gov.tw/PetsMap/PetsMap.aspx"
   ]
  },
  {
   "cell_type": "markdown",
   "metadata": {},
   "source": [
    "#### Setup"
   ]
  },
  {
   "cell_type": "code",
   "execution_count": 2,
   "metadata": {},
   "outputs": [],
   "source": [
    "%load_ext rpy2.ipython\n",
    "%load_ext autoreload\n",
    "%autoreload 2\n",
    "\n",
    "%matplotlib inline  \n",
    "from matplotlib import rcParams\n",
    "rcParams['figure.figsize'] = (16, 100)\n",
    "\n",
    "import warnings\n",
    "from rpy2.rinterface import RRuntimeWarning\n",
    "warnings.filterwarnings(\"ignore\") # Ignore all warnings\n",
    "# warnings.filterwarnings(\"ignore\", category=RRuntimeWarning) # Show some warnings\n",
    "\n",
    "import pandas as pd\n",
    "import numpy as np\n",
    "import matplotlib.pyplot as plt\n",
    "from IPython.display import display, HTML\n",
    "# from playwright.async_api import async_playwright\n",
    "from bs4 import BeautifulSoup\n",
    "import requests\n",
    "import re"
   ]
  },
  {
   "cell_type": "code",
   "execution_count": 2,
   "metadata": {},
   "outputs": [
    {
     "data": {
      "application/javascript": "// Disable auto-scrolling\nIPython.OutputArea.prototype._should_scroll = function(lines) {\n    return false;\n}\n",
      "text/plain": [
       "<IPython.core.display.Javascript object>"
      ]
     },
     "metadata": {},
     "output_type": "display_data"
    }
   ],
   "source": [
    "%%javascript\n",
    "// Disable auto-scrolling\n",
    "IPython.OutputArea.prototype._should_scroll = function(lines) {\n",
    "    return false;\n",
    "}"
   ]
  },
  {
   "cell_type": "code",
   "execution_count": 3,
   "metadata": {},
   "outputs": [
    {
     "name": "stdout",
     "output_type": "stream",
     "text": [
      "── Attaching core tidyverse packages ──────────────────────── tidyverse 2.0.0 ──\n",
      "✔ dplyr     1.1.4     ✔ readr     2.1.5\n",
      "✔ forcats   1.0.0     ✔ stringr   1.5.1\n",
      "✔ ggplot2   3.4.4     ✔ tibble    3.2.1\n",
      "✔ lubridate 1.9.3     ✔ tidyr     1.3.0\n",
      "✔ purrr     1.0.2     \n",
      "── Conflicts ────────────────────────────────────────── tidyverse_conflicts() ──\n",
      "✖ dplyr::filter() masks stats::filter()\n",
      "✖ dplyr::lag()    masks stats::lag()\n",
      "ℹ Use the conflicted package (<http://conflicted.r-lib.org/>) to force all conflicts to become errors\n"
     ]
    },
    {
     "data": {
      "text/plain": [
       "Loading required package: tidyverse\n"
      ]
     },
     "metadata": {},
     "output_type": "display_data"
    }
   ],
   "source": [
    "%%R\n",
    "\n",
    "require(\"tidyverse\")"
   ]
  },
  {
   "cell_type": "markdown",
   "metadata": {},
   "source": [
    "#### Playwright scraping "
   ]
  },
  {
   "cell_type": "code",
   "execution_count": 44,
   "metadata": {},
   "outputs": [
    {
     "ename": "AttributeError",
     "evalue": "'NavigableString' object has no attribute 'a'",
     "output_type": "error",
     "traceback": [
      "\u001b[0;31m---------------------------------------------------------------------------\u001b[0m",
      "\u001b[0;31mAttributeError\u001b[0m                            Traceback (most recent call last)",
      "Cell \u001b[0;32mIn[44], line 24\u001b[0m\n\u001b[1;32m     22\u001b[0m tables \u001b[38;5;241m=\u001b[39m doc\u001b[38;5;241m.\u001b[39mfind(\u001b[38;5;124m\"\u001b[39m\u001b[38;5;124mtr\u001b[39m\u001b[38;5;124m\"\u001b[39m)\n\u001b[1;32m     23\u001b[0m \u001b[38;5;28;01mfor\u001b[39;00m row \u001b[38;5;129;01min\u001b[39;00m tables:\n\u001b[0;32m---> 24\u001b[0m     \u001b[38;5;28mprint\u001b[39m(\u001b[43mrow\u001b[49m\u001b[38;5;241;43m.\u001b[39;49m\u001b[43ma\u001b[49m\u001b[38;5;241m.\u001b[39mtext)\n\u001b[1;32m     26\u001b[0m \u001b[38;5;66;03m# print(table[0])\u001b[39;00m\n\u001b[1;32m     27\u001b[0m \u001b[38;5;66;03m# filename = f\"text_dog_{year}.csv\"\u001b[39;00m\n\u001b[1;32m     28\u001b[0m \n\u001b[1;32m     29\u001b[0m \u001b[38;5;66;03m# print(\"Saving as\", filename)\u001b[39;00m\n\u001b[1;32m     30\u001b[0m \u001b[38;5;66;03m# tables[0].to_csv(filename, index=False)\u001b[39;00m\n",
      "File \u001b[0;32m~/.pyenv/versions/3.11.7/lib/python3.11/site-packages/bs4/element.py:984\u001b[0m, in \u001b[0;36mNavigableString.__getattr__\u001b[0;34m(self, attr)\u001b[0m\n\u001b[1;32m    982\u001b[0m     \u001b[38;5;28;01mreturn\u001b[39;00m \u001b[38;5;28mself\u001b[39m\n\u001b[1;32m    983\u001b[0m \u001b[38;5;28;01melse\u001b[39;00m:\n\u001b[0;32m--> 984\u001b[0m     \u001b[38;5;28;01mraise\u001b[39;00m \u001b[38;5;167;01mAttributeError\u001b[39;00m(\n\u001b[1;32m    985\u001b[0m         \u001b[38;5;124m\"\u001b[39m\u001b[38;5;124m'\u001b[39m\u001b[38;5;132;01m%s\u001b[39;00m\u001b[38;5;124m'\u001b[39m\u001b[38;5;124m object has no attribute \u001b[39m\u001b[38;5;124m'\u001b[39m\u001b[38;5;132;01m%s\u001b[39;00m\u001b[38;5;124m'\u001b[39m\u001b[38;5;124m\"\u001b[39m \u001b[38;5;241m%\u001b[39m (\n\u001b[1;32m    986\u001b[0m             \u001b[38;5;28mself\u001b[39m\u001b[38;5;241m.\u001b[39m\u001b[38;5;18m__class__\u001b[39m\u001b[38;5;241m.\u001b[39m\u001b[38;5;18m__name__\u001b[39m, attr))\n",
      "\u001b[0;31mAttributeError\u001b[0m: 'NavigableString' object has no attribute 'a'"
     ]
    }
   ],
   "source": [
    "# \"Hey, open up a browser\"\n",
    "playwright = await async_playwright().start()\n",
    "browser = await playwright.chromium.launch(headless=False)\n",
    "page = await browser.new_page()\n",
    "page.set_default_navigation_timeout(100000)\n",
    "\n",
    "# Dog registration data\n",
    "years = [2019] #2020, 2021, 2022, 2023]\n",
    "for year in years:\n",
    "    await page.goto(\"https://www.pet.gov.tw/PetsMap/PetsMap.aspx\")\n",
    "    await page.locator(\"label\").filter(has_text=\"犬\").locator(\"span\").first.click()\n",
    "    await page.locator(\"#st\").fill(f'{year}/01/01')\n",
    "    await page.locator(\"#ed\").fill(f'{year}/12/31')\n",
    "    await page.locator(\"#setInput\").click()\n",
    "\n",
    "    # await page.get_by_role(\"button\", name=\"縣 市\").click()\n",
    "    # await page.get_by_role(\"button\", name=\"縣 市\").click()\n",
    "\n",
    "    html = await page.content()\n",
    "    doc = BeautifulSoup(html, \"html.parser\")\n",
    "\n",
    "    # tables = doc.find_all()\")\n",
    "    # for row in tables:\n",
    "    #     print(row.a.text)\n",
    "\n",
    "    # print(table[0])\n",
    "    # filename = f\"text_dog_{year}.csv\"\n",
    "\n",
    "    # print(\"Saving as\", filename)\n",
    "    # tables[0].to_csv(filename, index=False)\n"
   ]
  },
  {
   "cell_type": "markdown",
   "metadata": {},
   "source": [
    "#### Cleaning and data analysis"
   ]
  },
  {
   "cell_type": "code",
   "execution_count": 26,
   "metadata": {},
   "outputs": [],
   "source": [
    "# Create average dog per household in DOG registration data\n",
    "\n",
    "years = [2019, 2020, 2021, 2022, 2023]\n",
    "for year in years:\n",
    "    df = pd.read_csv(f\"animal_registration_data/{year}_dog.csv\", skipinitialspace = True)\n",
    "   \n",
    "    # remove whitespaces\n",
    "    df = df.dropna()\n",
    "    # df['city'] = df['city'].str.replace(' ','')\n",
    "\n",
    "    # change the columns to int\n",
    "    df['registered'] = df['registered'].astype(int)\n",
    "    df['household'] = df['household'].astype(int)\n",
    "\n",
    "    # calculate the average dog per household\n",
    "    df['average_dog'] = (df['registered'] / df['household']).round(2)\n",
    "\n",
    "    # save the file \n",
    "    df.to_csv(f\"animal_registration_data/{year}_dog.csv\", index=False)\n",
    "\n"
   ]
  },
  {
   "cell_type": "code",
   "execution_count": 7,
   "metadata": {},
   "outputs": [],
   "source": [
    "# Create average cat per household in CAT registration data\n",
    "\n",
    "years = [2019, 2020, 2021, 2022, 2023]\n",
    "for year in years:\n",
    "    df = pd.read_csv(f\"animal_registration_data/cat/{year}_cat.csv\", skipinitialspace = True)\n",
    "\n",
    "    # change the columns to int\n",
    "    df['registered'] = df['registered'].astype(int)\n",
    "    df['household'] = df['household'].astype(int)\n",
    "\n",
    "    # calculate the average cat per household\n",
    "    df['average_cat'] = (df['registered'] / df['household']).round(2)\n",
    "\n",
    "    # save the file back\n",
    "    df.to_csv(f\"animal_registration_data/cat/{year}_cat.csv\", index=False)"
   ]
  },
  {
   "cell_type": "code",
   "execution_count": 34,
   "metadata": {},
   "outputs": [],
   "source": [
    "# Merged the translated city name to the CAT registration data\n",
    "\n",
    "years = [2019, 2020, 2021, 2022, 2023]\n",
    "\n",
    "for year in years:\n",
    "\n",
    "    # load files\n",
    "    df = pd.read_csv(f\"animal_registration_data/cat/{year}_cat.csv\", skipinitialspace = True) # check the filename!!!\n",
    "    df_city = pd.read_csv(\"city.csv\")\n",
    "\n",
    "    # merge number files with traslated city name file\n",
    "    merged = pd.merge(df, df_city, left_on='city', right_on='Mandarin', how='left')\n",
    "\n",
    "    # drop the duplicated column\n",
    "    merged.drop(columns=['Mandarin'], inplace=True)\n",
    "\n",
    "    # print(merged) # > check if the merge is correct\n",
    "\n",
    "    # save back to the file\n",
    "    merged.to_csv(f\"animal_registration_data/cat/{year}_cat.csv\", index=False) # filename!!!"
   ]
  },
  {
   "cell_type": "code",
   "execution_count": 37,
   "metadata": {},
   "outputs": [],
   "source": [
    "# Merged the translated city name to the DOG registration data\n",
    "\n",
    "years = [2019, 2020, 2021, 2022, 2023]\n",
    "\n",
    "for year in years:\n",
    "\n",
    "    # load files\n",
    "    df = pd.read_csv(f\"animal_registration_data/dog/{year}_dog.csv\", skipinitialspace = True) # filename!!!\n",
    "    df_city = pd.read_csv(\"city.csv\")\n",
    "\n",
    "    # merge number files with traslated city name file\n",
    "    merged = pd.merge(df, df_city, left_on='city', right_on='Mandarin', how='left')\n",
    "\n",
    "    # drop the duplicated column\n",
    "    merged.drop(columns=['Mandarin'], inplace=True)\n",
    "\n",
    "    # print(merged) # > check if the merge is correct\n",
    "\n",
    "    # save back to the file\n",
    "    merged.to_csv(f\"animal_registration_data/dog/{year}_dog.csv\", index=False) # filename!!!"
   ]
  },
  {
   "cell_type": "code",
   "execution_count": 13,
   "metadata": {},
   "outputs": [],
   "source": [
    "# 2023 top 10 cities with the most registered dogs and cats\n",
    "\n",
    "df2023_dog = pd.read_csv(\"animal_registration_data/dog/2023_dog.csv\", skipinitialspace = True) # filename!!!\n",
    "df2023_cat = pd.read_csv(\"animal_registration_data/cat/2023_cat.csv\", skipinitialspace = True) # filename!!!\n",
    "merged = pd.merge(df2023_dog, df2023_cat, on='city', how='left')\n",
    "merged.drop(columns=['household_x', 'registered_x', 'registered_y', 'household_y', 'English_x'], inplace=True)\n",
    "merged.to_csv(\"animal_registration_data/2023_average_CND.csv\", index=False)"
   ]
  },
  {
   "cell_type": "code",
   "execution_count": 41,
   "metadata": {},
   "outputs": [
    {
     "data": {
      "text/plain": [
       "<Axes: ylabel='English'>"
      ]
     },
     "execution_count": 41,
     "metadata": {},
     "output_type": "execute_result"
    },
    {
     "data": {
      "image/png": "[encoded data removed]",
      "text/plain": [
       "<Figure size 1000x500 with 1 Axes>"
      ]
     },
     "metadata": {},
     "output_type": "display_data"
    }
   ],
   "source": [
    "merged[['average_cat','English']].sort_values('average_cat', ascending=False).head(5).plot.barh(x='English', y='average_cat', color='blue', figsize=(10, 5))"
   ]
  },
  {
   "cell_type": "code",
   "execution_count": 25,
   "metadata": {},
   "outputs": [
    {
     "data": {
      "text/plain": [
       "<Axes: ylabel='English'>"
      ]
     },
     "execution_count": 25,
     "metadata": {},
     "output_type": "execute_result"
    },
    {
     "data": {
      "image/png": "[encoded data removed]",
      "text/plain": [
       "<Figure size 1000x500 with 1 Axes>"
      ]
     },
     "metadata": {},
     "output_type": "display_data"
    }
   ],
   "source": [
    "# Top 5 cities with the most registered dogs in 2023\n",
    "merged[['average_dog','English']].sort_values('average_dog', ascending=False).head(5).plot.barh(x='English', y='average_dog', color='blue', figsize=(10, 5))"
   ]
  },
  {
   "cell_type": "code",
   "execution_count": 38,
   "metadata": {},
   "outputs": [],
   "source": [
    "# Top 5 cities with the most registered cats and dogs in 2023\n",
    "top5_cat = merged.sort_values('average_cat', ascending=False).head(5)\n",
    "top5_dog = merged.sort_values('average_dog', ascending=False).head(5)\n",
    "top5_cat_city = list(top5_cat.English.unique())\n",
    "top5_dog_city = list(top5_dog.English.unique())\n",
    "top_animal_cities = list(set(top5_cat_city + top5_dog_city))\n"
   ]
  },
  {
   "cell_type": "code",
   "execution_count": 40,
   "metadata": {},
   "outputs": [],
   "source": [
    "top2023 = merged[merged['English'].isin(top_animal_cities)==True]\n",
    "top2023.to_csv(\"animal_registration_data/2023_top5_CND.csv\", index=False)\n"
   ]
  },
  {
   "cell_type": "code",
   "execution_count": null,
   "metadata": {},
   "outputs": [],
   "source": []
  }
 ],
 "metadata": {
  "kernelspec": {
   "display_name": "Python 3",
   "language": "python",
   "name": "python3"
  },
  "language_info": {
   "codemirror_mode": {
    "name": "ipython",
    "version": 3
   },
   "file_extension": ".py",
   "mimetype": "text/x-python",
   "name": "python",
   "nbconvert_exporter": "python",
   "pygments_lexer": "ipython3",
   "version": "3.11.7"
  }
 },
 "nbformat": 4,
 "nbformat_minor": 2
}
